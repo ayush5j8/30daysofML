{
 "cells": [
  {
   "cell_type": "code",
   "execution_count": 3,
   "id": "7d262d4c",
   "metadata": {},
   "outputs": [],
   "source": [
    "import pandas as pd\n",
    "import numpy as np\n",
    "import matplotlib.pyplot as plt"
   ]
  },
  {
   "cell_type": "code",
   "execution_count": 4,
   "id": "f22f5340",
   "metadata": {},
   "outputs": [],
   "source": [
    "from sklearn.datasets import load_diabetes"
   ]
  },
  {
   "cell_type": "code",
   "execution_count": 5,
   "id": "27c11702",
   "metadata": {},
   "outputs": [],
   "source": [
    "df = load_diabetes()\n",
    "dataset = pd.DataFrame(df.data)\n",
    "dataset.columns = df.feature_names\n",
    "#dataset"
   ]
  },
  {
   "cell_type": "code",
   "execution_count": 6,
   "id": "7c850392",
   "metadata": {},
   "outputs": [],
   "source": [
    "# setting up independent(X) and dependent(y) features\n",
    "X = dataset\n",
    "y = df.target"
   ]
  },
  {
   "cell_type": "code",
   "execution_count": 7,
   "id": "b6248c3a",
   "metadata": {},
   "outputs": [
    {
     "data": {
      "text/html": [
       "<div>\n",
       "<style scoped>\n",
       "    .dataframe tbody tr th:only-of-type {\n",
       "        vertical-align: middle;\n",
       "    }\n",
       "\n",
       "    .dataframe tbody tr th {\n",
       "        vertical-align: top;\n",
       "    }\n",
       "\n",
       "    .dataframe thead th {\n",
       "        text-align: right;\n",
       "    }\n",
       "</style>\n",
       "<table border=\"1\" class=\"dataframe\">\n",
       "  <thead>\n",
       "    <tr style=\"text-align: right;\">\n",
       "      <th></th>\n",
       "      <th>age</th>\n",
       "      <th>sex</th>\n",
       "      <th>bmi</th>\n",
       "      <th>bp</th>\n",
       "      <th>s1</th>\n",
       "      <th>s2</th>\n",
       "      <th>s3</th>\n",
       "      <th>s4</th>\n",
       "      <th>s5</th>\n",
       "      <th>s6</th>\n",
       "    </tr>\n",
       "  </thead>\n",
       "  <tbody>\n",
       "    <tr>\n",
       "      <th>225</th>\n",
       "      <td>0.030811</td>\n",
       "      <td>0.050680</td>\n",
       "      <td>0.032595</td>\n",
       "      <td>0.049415</td>\n",
       "      <td>-0.040096</td>\n",
       "      <td>-0.043589</td>\n",
       "      <td>-0.069172</td>\n",
       "      <td>0.034309</td>\n",
       "      <td>0.063015</td>\n",
       "      <td>0.003064</td>\n",
       "    </tr>\n",
       "    <tr>\n",
       "      <th>412</th>\n",
       "      <td>0.074401</td>\n",
       "      <td>-0.044642</td>\n",
       "      <td>0.085408</td>\n",
       "      <td>0.063187</td>\n",
       "      <td>0.014942</td>\n",
       "      <td>0.013091</td>\n",
       "      <td>0.015505</td>\n",
       "      <td>-0.002592</td>\n",
       "      <td>0.006207</td>\n",
       "      <td>0.085907</td>\n",
       "    </tr>\n",
       "    <tr>\n",
       "      <th>118</th>\n",
       "      <td>-0.056370</td>\n",
       "      <td>0.050680</td>\n",
       "      <td>-0.010517</td>\n",
       "      <td>0.025315</td>\n",
       "      <td>0.023198</td>\n",
       "      <td>0.040022</td>\n",
       "      <td>-0.039719</td>\n",
       "      <td>0.034309</td>\n",
       "      <td>0.020609</td>\n",
       "      <td>0.056912</td>\n",
       "    </tr>\n",
       "    <tr>\n",
       "      <th>114</th>\n",
       "      <td>0.023546</td>\n",
       "      <td>-0.044642</td>\n",
       "      <td>0.110198</td>\n",
       "      <td>0.063187</td>\n",
       "      <td>0.013567</td>\n",
       "      <td>-0.032942</td>\n",
       "      <td>-0.024993</td>\n",
       "      <td>0.020655</td>\n",
       "      <td>0.099241</td>\n",
       "      <td>0.023775</td>\n",
       "    </tr>\n",
       "    <tr>\n",
       "      <th>364</th>\n",
       "      <td>0.001751</td>\n",
       "      <td>0.050680</td>\n",
       "      <td>-0.006206</td>\n",
       "      <td>-0.019442</td>\n",
       "      <td>-0.009825</td>\n",
       "      <td>0.004949</td>\n",
       "      <td>-0.039719</td>\n",
       "      <td>0.034309</td>\n",
       "      <td>0.014821</td>\n",
       "      <td>0.098333</td>\n",
       "    </tr>\n",
       "    <tr>\n",
       "      <th>...</th>\n",
       "      <td>...</td>\n",
       "      <td>...</td>\n",
       "      <td>...</td>\n",
       "      <td>...</td>\n",
       "      <td>...</td>\n",
       "      <td>...</td>\n",
       "      <td>...</td>\n",
       "      <td>...</td>\n",
       "      <td>...</td>\n",
       "      <td>...</td>\n",
       "    </tr>\n",
       "    <tr>\n",
       "      <th>106</th>\n",
       "      <td>-0.096328</td>\n",
       "      <td>-0.044642</td>\n",
       "      <td>-0.076264</td>\n",
       "      <td>-0.043542</td>\n",
       "      <td>-0.045599</td>\n",
       "      <td>-0.034821</td>\n",
       "      <td>0.008142</td>\n",
       "      <td>-0.039493</td>\n",
       "      <td>-0.059471</td>\n",
       "      <td>-0.083920</td>\n",
       "    </tr>\n",
       "    <tr>\n",
       "      <th>270</th>\n",
       "      <td>0.005383</td>\n",
       "      <td>0.050680</td>\n",
       "      <td>0.030440</td>\n",
       "      <td>0.083844</td>\n",
       "      <td>-0.037344</td>\n",
       "      <td>-0.047347</td>\n",
       "      <td>0.015505</td>\n",
       "      <td>-0.039493</td>\n",
       "      <td>0.008641</td>\n",
       "      <td>0.015491</td>\n",
       "    </tr>\n",
       "    <tr>\n",
       "      <th>348</th>\n",
       "      <td>0.030811</td>\n",
       "      <td>-0.044642</td>\n",
       "      <td>-0.020218</td>\n",
       "      <td>-0.005670</td>\n",
       "      <td>-0.004321</td>\n",
       "      <td>-0.029497</td>\n",
       "      <td>0.078093</td>\n",
       "      <td>-0.039493</td>\n",
       "      <td>-0.010903</td>\n",
       "      <td>-0.001078</td>\n",
       "    </tr>\n",
       "    <tr>\n",
       "      <th>435</th>\n",
       "      <td>-0.012780</td>\n",
       "      <td>-0.044642</td>\n",
       "      <td>-0.023451</td>\n",
       "      <td>-0.040099</td>\n",
       "      <td>-0.016704</td>\n",
       "      <td>0.004636</td>\n",
       "      <td>-0.017629</td>\n",
       "      <td>-0.002592</td>\n",
       "      <td>-0.038460</td>\n",
       "      <td>-0.038357</td>\n",
       "    </tr>\n",
       "    <tr>\n",
       "      <th>102</th>\n",
       "      <td>-0.092695</td>\n",
       "      <td>-0.044642</td>\n",
       "      <td>0.028284</td>\n",
       "      <td>-0.015999</td>\n",
       "      <td>0.036958</td>\n",
       "      <td>0.024991</td>\n",
       "      <td>0.056003</td>\n",
       "      <td>-0.039493</td>\n",
       "      <td>-0.005142</td>\n",
       "      <td>-0.001078</td>\n",
       "    </tr>\n",
       "  </tbody>\n",
       "</table>\n",
       "<p>309 rows × 10 columns</p>\n",
       "</div>"
      ],
      "text/plain": [
       "          age       sex       bmi        bp        s1        s2        s3  \\\n",
       "225  0.030811  0.050680  0.032595  0.049415 -0.040096 -0.043589 -0.069172   \n",
       "412  0.074401 -0.044642  0.085408  0.063187  0.014942  0.013091  0.015505   \n",
       "118 -0.056370  0.050680 -0.010517  0.025315  0.023198  0.040022 -0.039719   \n",
       "114  0.023546 -0.044642  0.110198  0.063187  0.013567 -0.032942 -0.024993   \n",
       "364  0.001751  0.050680 -0.006206 -0.019442 -0.009825  0.004949 -0.039719   \n",
       "..        ...       ...       ...       ...       ...       ...       ...   \n",
       "106 -0.096328 -0.044642 -0.076264 -0.043542 -0.045599 -0.034821  0.008142   \n",
       "270  0.005383  0.050680  0.030440  0.083844 -0.037344 -0.047347  0.015505   \n",
       "348  0.030811 -0.044642 -0.020218 -0.005670 -0.004321 -0.029497  0.078093   \n",
       "435 -0.012780 -0.044642 -0.023451 -0.040099 -0.016704  0.004636 -0.017629   \n",
       "102 -0.092695 -0.044642  0.028284 -0.015999  0.036958  0.024991  0.056003   \n",
       "\n",
       "           s4        s5        s6  \n",
       "225  0.034309  0.063015  0.003064  \n",
       "412 -0.002592  0.006207  0.085907  \n",
       "118  0.034309  0.020609  0.056912  \n",
       "114  0.020655  0.099241  0.023775  \n",
       "364  0.034309  0.014821  0.098333  \n",
       "..        ...       ...       ...  \n",
       "106 -0.039493 -0.059471 -0.083920  \n",
       "270 -0.039493  0.008641  0.015491  \n",
       "348 -0.039493 -0.010903 -0.001078  \n",
       "435 -0.002592 -0.038460 -0.038357  \n",
       "102 -0.039493 -0.005142 -0.001078  \n",
       "\n",
       "[309 rows x 10 columns]"
      ]
     },
     "execution_count": 7,
     "metadata": {},
     "output_type": "execute_result"
    }
   ],
   "source": [
    "from sklearn.model_selection import train_test_split\n",
    "X_train, X_test, y_train, y_test = train_test_split(X, y, test_size = 0.30, random_state = 42)\n",
    "X_train"
   ]
  },
  {
   "cell_type": "code",
   "execution_count": 8,
   "id": "8ffe877d",
   "metadata": {},
   "outputs": [],
   "source": [
    "# standardizing the dataset\n",
    "from sklearn.preprocessing import StandardScaler\n",
    "scaler = StandardScaler()\n",
    "X_train = scaler.fit_transform(X_train)\n",
    "X_test = scaler.transform(X_test)"
   ]
  },
  {
   "cell_type": "code",
   "execution_count": 9,
   "id": "fbfd61b8",
   "metadata": {},
   "outputs": [
    {
     "data": {
      "text/plain": [
       "-3167.86163130161"
      ]
     },
     "execution_count": 9,
     "metadata": {},
     "output_type": "execute_result"
    }
   ],
   "source": [
    "# implementing Linear Regression\n",
    "from sklearn.linear_model import LinearRegression\n",
    "## cross validation - divides train data into batches and gets accuracy score of each batch.\n",
    "from sklearn.model_selection import cross_val_score\n",
    "regression = LinearRegression()\n",
    "regression.fit(X_train,y_train)\n",
    "mse = cross_val_score(regression, X_train, y_train, scoring = 'neg_mean_squared_error', cv=5)\n",
    "mean = np.mean(mse)\n",
    "mean"
   ]
  },
  {
   "cell_type": "code",
   "execution_count": 10,
   "id": "d75e0cbe",
   "metadata": {},
   "outputs": [
    {
     "data": {
      "text/plain": [
       "array([138.46970031, 181.10052342, 125.34400904, 292.75977277,\n",
       "       123.8830531 ,  91.89830434, 257.26463123, 177.76169318,\n",
       "        84.98549706, 109.15960992,  94.4855284 , 166.13235108,\n",
       "        57.40742502, 206.13897354,  97.7811842 , 131.00472765,\n",
       "       214.29789972, 252.52907661, 199.66656381, 219.49985634,\n",
       "       203.23671317,  88.00656925,  70.65108459, 186.92233427,\n",
       "       155.81266751, 162.81022205, 191.93135706, 184.72924276,\n",
       "        46.62920829, 108.26566599, 178.14743952,  91.35065005,\n",
       "       127.72125745, 184.04205666, 172.23799897, 189.51548863,\n",
       "       121.83265708, 117.75339206, 145.67950306,  58.57563401,\n",
       "        72.55421321, 107.27571105, 166.15280313, 153.29339984,\n",
       "       165.19282154,  62.95752038,  73.58909449, 110.05656189,\n",
       "        54.49723354, 164.88920632, 152.49472803,  63.8874565 ,\n",
       "       111.4354561 , 108.34936269, 179.96973311, 158.70054112,\n",
       "        95.04833555, 209.68990406, 118.37356519,  69.69946093,\n",
       "       189.04680627, 204.99138626, 140.26840176, 105.75963198,\n",
       "       131.22316354, 201.65649349, 173.60251683, 164.25810664,\n",
       "       122.01567481, 143.53425629, 179.42286037, 201.32086534,\n",
       "       234.50804093, 146.96093984,  80.27567403, 160.86822173,\n",
       "       192.72110552, 208.6585054 , 158.56823462, 206.00933474,\n",
       "       111.53729194, 140.28763033,  51.15323818,  54.76434639,\n",
       "       113.02207773,  78.46425825,  80.20416459,  56.97774667,\n",
       "       168.51207071, 185.55749267, 152.33436369, 242.66080008,\n",
       "       106.44250735,  61.34968205,  53.44975218, 197.78538801,\n",
       "       246.62420102, 185.25237675, 105.80114548,  62.42547543,\n",
       "       193.39002547, 107.08821595, 297.08578592,  94.45306615,\n",
       "       148.41869832, 104.10666888, 128.66940497, 126.90012169,\n",
       "       165.84858396, 186.14546255, 108.5888133 , 203.83170771,\n",
       "       204.97622269, 209.10156998, 191.65509488, 161.26918179,\n",
       "       148.51075431, 135.0455994 , 111.74197539, 163.62966339,\n",
       "       170.55301782,  95.53608319,  46.85961143, 164.34533761,\n",
       "       127.1747026 , 176.61035076, 173.47305611, 107.40153597,\n",
       "       202.99778708,  92.10100436, 122.28876806,  80.80866991,\n",
       "       233.21870492])"
      ]
     },
     "execution_count": 10,
     "metadata": {},
     "output_type": "execute_result"
    }
   ],
   "source": [
    "# prediction\n",
    "reg_pred = regression.predict(X_test)\n",
    "reg_pred"
   ]
  },
  {
   "cell_type": "code",
   "execution_count": 11,
   "id": "57148f8d",
   "metadata": {},
   "outputs": [
    {
     "data": {
      "text/plain": [
       "<seaborn.axisgrid.FacetGrid at 0x1e061e5d390>"
      ]
     },
     "execution_count": 11,
     "metadata": {},
     "output_type": "execute_result"
    },
    {
     "data": {
      "image/png": "[encoded data removed]",
      "text/plain": [
       "<Figure size 500x500 with 1 Axes>"
      ]
     },
     "metadata": {},
     "output_type": "display_data"
    }
   ],
   "source": [
    "# checking the predicted values what level of correctness they have\n",
    "import seaborn as sns\n",
    "sns.displot(reg_pred-y_test, kind = 'kde')"
   ]
  },
  {
   "cell_type": "code",
   "execution_count": 12,
   "id": "8f99552f",
   "metadata": {},
   "outputs": [
    {
     "data": {
      "text/plain": [
       "0.0580179896169275"
      ]
     },
     "execution_count": 12,
     "metadata": {},
     "output_type": "execute_result"
    }
   ],
   "source": [
    "# accuracy score\n",
    "from sklearn.metrics import r2_score\n",
    "score = r2_score(reg_pred, y_test)\n",
    "score"
   ]
  },
  {
   "cell_type": "markdown",
   "id": "d48a7aef",
   "metadata": {},
   "source": [
    "# Ridge Regression"
   ]
  },
  {
   "cell_type": "code",
   "execution_count": 13,
   "id": "0d01e993",
   "metadata": {},
   "outputs": [],
   "source": [
    "from sklearn.linear_model import Ridge\n",
    "from sklearn.model_selection import GridSearchCV"
   ]
  },
  {
   "cell_type": "code",
   "execution_count": 14,
   "id": "5a1bd0e7",
   "metadata": {},
   "outputs": [
    {
     "data": {
      "text/html": [
       "<style>#sk-container-id-1 {color: black;}#sk-container-id-1 pre{padding: 0;}#sk-container-id-1 div.sk-toggleable {background-color: white;}#sk-container-id-1 label.sk-toggleable__label {cursor: pointer;display: block;width: 100%;margin-bottom: 0;padding: 0.3em;box-sizing: border-box;text-align: center;}#sk-container-id-1 label.sk-toggleable__label-arrow:before {content: \"▸\";float: left;margin-right: 0.25em;color: #696969;}#sk-container-id-1 label.sk-toggleable__label-arrow:hover:before {color: black;}#sk-container-id-1 div.sk-estimator:hover label.sk-toggleable__label-arrow:before {color: black;}#sk-container-id-1 div.sk-toggleable__content {max-height: 0;max-width: 0;overflow: hidden;text-align: left;background-color: #f0f8ff;}#sk-container-id-1 div.sk-toggleable__content pre {margin: 0.2em;color: black;border-radius: 0.25em;background-color: #f0f8ff;}#sk-container-id-1 input.sk-toggleable__control:checked~div.sk-toggleable__content {max-height: 200px;max-width: 100%;overflow: auto;}#sk-container-id-1 input.sk-toggleable__control:checked~label.sk-toggleable__label-arrow:before {content: \"▾\";}#sk-container-id-1 div.sk-estimator input.sk-toggleable__control:checked~label.sk-toggleable__label {background-color: #d4ebff;}#sk-container-id-1 div.sk-label input.sk-toggleable__control:checked~label.sk-toggleable__label {background-color: #d4ebff;}#sk-container-id-1 input.sk-hidden--visually {border: 0;clip: rect(1px 1px 1px 1px);clip: rect(1px, 1px, 1px, 1px);height: 1px;margin: -1px;overflow: hidden;padding: 0;position: absolute;width: 1px;}#sk-container-id-1 div.sk-estimator {font-family: monospace;background-color: #f0f8ff;border: 1px dotted black;border-radius: 0.25em;box-sizing: border-box;margin-bottom: 0.5em;}#sk-container-id-1 div.sk-estimator:hover {background-color: #d4ebff;}#sk-container-id-1 div.sk-parallel-item::after {content: \"\";width: 100%;border-bottom: 1px solid gray;flex-grow: 1;}#sk-container-id-1 div.sk-label:hover label.sk-toggleable__label {background-color: #d4ebff;}#sk-container-id-1 div.sk-serial::before {content: \"\";position: absolute;border-left: 1px solid gray;box-sizing: border-box;top: 0;bottom: 0;left: 50%;z-index: 0;}#sk-container-id-1 div.sk-serial {display: flex;flex-direction: column;align-items: center;background-color: white;padding-right: 0.2em;padding-left: 0.2em;position: relative;}#sk-container-id-1 div.sk-item {position: relative;z-index: 1;}#sk-container-id-1 div.sk-parallel {display: flex;align-items: stretch;justify-content: center;background-color: white;position: relative;}#sk-container-id-1 div.sk-item::before, #sk-container-id-1 div.sk-parallel-item::before {content: \"\";position: absolute;border-left: 1px solid gray;box-sizing: border-box;top: 0;bottom: 0;left: 50%;z-index: -1;}#sk-container-id-1 div.sk-parallel-item {display: flex;flex-direction: column;z-index: 1;position: relative;background-color: white;}#sk-container-id-1 div.sk-parallel-item:first-child::after {align-self: flex-end;width: 50%;}#sk-container-id-1 div.sk-parallel-item:last-child::after {align-self: flex-start;width: 50%;}#sk-container-id-1 div.sk-parallel-item:only-child::after {width: 0;}#sk-container-id-1 div.sk-dashed-wrapped {border: 1px dashed gray;margin: 0 0.4em 0.5em 0.4em;box-sizing: border-box;padding-bottom: 0.4em;background-color: white;}#sk-container-id-1 div.sk-label label {font-family: monospace;font-weight: bold;display: inline-block;line-height: 1.2em;}#sk-container-id-1 div.sk-label-container {text-align: center;}#sk-container-id-1 div.sk-container {/* jupyter's `normalize.less` sets `[hidden] { display: none; }` but bootstrap.min.css set `[hidden] { display: none !important; }` so we also need the `!important` here to be able to override the default hidden behavior on the sphinx rendered scikit-learn.org. See: https://github.com/scikit-learn/scikit-learn/issues/21755 */display: inline-block !important;position: relative;}#sk-container-id-1 div.sk-text-repr-fallback {display: none;}</style><div id=\"sk-container-id-1\" class=\"sk-top-container\"><div class=\"sk-text-repr-fallback\"><pre>GridSearchCV(cv=5, estimator=Ridge(),\n",
       "             param_grid={&#x27;alpha&#x27;: [1, 2, 3, 4, 5, 6, 7, 11, 13, 17, 19]},\n",
       "             scoring=&#x27;neg_mean_squared_error&#x27;)</pre><b>In a Jupyter environment, please rerun this cell to show the HTML representation or trust the notebook. <br />On GitHub, the HTML representation is unable to render, please try loading this page with nbviewer.org.</b></div><div class=\"sk-container\" hidden><div class=\"sk-item sk-dashed-wrapped\"><div class=\"sk-label-container\"><div class=\"sk-label sk-toggleable\"><input class=\"sk-toggleable__control sk-hidden--visually\" id=\"sk-estimator-id-1\" type=\"checkbox\" ><label for=\"sk-estimator-id-1\" class=\"sk-toggleable__label sk-toggleable__label-arrow\">GridSearchCV</label><div class=\"sk-toggleable__content\"><pre>GridSearchCV(cv=5, estimator=Ridge(),\n",
       "             param_grid={&#x27;alpha&#x27;: [1, 2, 3, 4, 5, 6, 7, 11, 13, 17, 19]},\n",
       "             scoring=&#x27;neg_mean_squared_error&#x27;)</pre></div></div></div><div class=\"sk-parallel\"><div class=\"sk-parallel-item\"><div class=\"sk-item\"><div class=\"sk-label-container\"><div class=\"sk-label sk-toggleable\"><input class=\"sk-toggleable__control sk-hidden--visually\" id=\"sk-estimator-id-2\" type=\"checkbox\" ><label for=\"sk-estimator-id-2\" class=\"sk-toggleable__label sk-toggleable__label-arrow\">estimator: Ridge</label><div class=\"sk-toggleable__content\"><pre>Ridge()</pre></div></div></div><div class=\"sk-serial\"><div class=\"sk-item\"><div class=\"sk-estimator sk-toggleable\"><input class=\"sk-toggleable__control sk-hidden--visually\" id=\"sk-estimator-id-3\" type=\"checkbox\" ><label for=\"sk-estimator-id-3\" class=\"sk-toggleable__label sk-toggleable__label-arrow\">Ridge</label><div class=\"sk-toggleable__content\"><pre>Ridge()</pre></div></div></div></div></div></div></div></div></div></div>"
      ],
      "text/plain": [
       "GridSearchCV(cv=5, estimator=Ridge(),\n",
       "             param_grid={'alpha': [1, 2, 3, 4, 5, 6, 7, 11, 13, 17, 19]},\n",
       "             scoring='neg_mean_squared_error')"
      ]
     },
     "execution_count": 14,
     "metadata": {},
     "output_type": "execute_result"
    }
   ],
   "source": [
    "ridge_regressor = Ridge()\n",
    "parameters = {'alpha':[1,2,3,4,5,6,7,11,13,17,19]}\n",
    "ridgeCV = GridSearchCV(ridge_regressor, parameters, scoring='neg_mean_squared_error', cv=5)\n",
    "ridgeCV.fit(X_train, y_train)"
   ]
  },
  {
   "cell_type": "code",
   "execution_count": 17,
   "id": "c856591f",
   "metadata": {},
   "outputs": [
    {
     "name": "stdout",
     "output_type": "stream",
     "text": [
      "{'alpha': 1}\n",
      "-3165.461652918005\n"
     ]
    }
   ],
   "source": [
    "print(ridgeCV.best_params_)\n",
    "print(ridgeCV.best_score_)"
   ]
  },
  {
   "cell_type": "code",
   "execution_count": 18,
   "id": "8810a8cc",
   "metadata": {},
   "outputs": [
    {
     "data": {
      "text/plain": [
       "array([138.82208028, 181.5975227 , 127.15134107, 293.26350164,\n",
       "       123.29523239,  92.48332492, 256.9314626 , 179.48184812,\n",
       "        83.2081883 , 109.97258757,  94.79487003, 164.19563339,\n",
       "        60.3144801 , 205.75255651,  97.55722009, 131.56609313,\n",
       "       214.9837202 , 251.38888676, 199.45720557, 218.37353731,\n",
       "       202.97956168,  88.20775135,  71.31380932, 186.74787794,\n",
       "       156.20706454, 163.63111148, 192.3267887 , 183.64502295,\n",
       "        47.27622623, 108.88526184, 179.84422408,  92.78365664,\n",
       "       127.41942121, 182.90507584, 172.15482689, 189.70225925,\n",
       "       121.33877856, 117.36073552, 145.11503802,  59.25863732,\n",
       "        73.59647765, 107.53019551, 165.04506615, 151.81510635,\n",
       "       166.25350167,  64.25301763,  75.60213737, 107.94187637,\n",
       "        56.51779184, 162.9623704 , 153.81813207,  64.57409423,\n",
       "       114.47877545, 108.13011769, 178.17759159, 160.21497304,\n",
       "        95.15994195, 208.80271077, 117.73876164,  67.4148732 ,\n",
       "       188.07412396, 203.70990787, 140.65943612, 105.80769257,\n",
       "       129.77561404, 201.90668952, 172.32115744, 163.29368255,\n",
       "       120.15477453, 142.28748862, 178.71688063, 199.9978675 ,\n",
       "       234.68466394, 145.97849601,  81.14590124, 158.91761828,\n",
       "       192.88383976, 207.62563493, 158.4155749 , 203.85796451,\n",
       "       113.43671512, 139.16850382,  51.01106383,  55.00519961,\n",
       "       112.03341936,  80.37473567,  79.99121796,  59.1287356 ,\n",
       "       167.76566331, 185.20458498, 150.7606202 , 241.09239927,\n",
       "       105.97369016,  61.48969973,  54.8624054 , 196.63236337,\n",
       "       249.39389169, 184.80727814, 105.36141343,  63.45654754,\n",
       "       192.87824126, 107.49281009, 296.41623428,  93.40405855,\n",
       "       148.39774023, 103.70069494, 128.11242099, 127.45011348,\n",
       "       166.04220386, 186.88633861, 108.31238916, 202.77130223,\n",
       "       204.22838622, 209.32709855, 191.49533152, 159.94955905,\n",
       "       147.9011605 , 134.74265779, 112.04357982, 163.50507485,\n",
       "       169.87269794,  96.31327836,  51.92651812, 163.27387993,\n",
       "       128.23509501, 175.9617942 , 171.94803421, 107.45699875,\n",
       "       200.61763935,  91.76230334, 123.88445769,  81.27201943,\n",
       "       231.79823347])"
      ]
     },
     "execution_count": 18,
     "metadata": {},
     "output_type": "execute_result"
    }
   ],
   "source": [
    "ridge_pred = ridgeCV.predict(X_test)\n",
    "ridge_pred"
   ]
  },
  {
   "cell_type": "code",
   "execution_count": 19,
   "id": "cce1ffc0",
   "metadata": {},
   "outputs": [
    {
     "data": {
      "text/plain": [
       "<seaborn.axisgrid.FacetGrid at 0x1e064f46750>"
      ]
     },
     "execution_count": 19,
     "metadata": {},
     "output_type": "execute_result"
    },
    {
     "data": {
      "image/png": "[encoded data removed]",
      "text/plain": [
       "<Figure size 500x500 with 1 Axes>"
      ]
     },
     "metadata": {},
     "output_type": "display_data"
    }
   ],
   "source": [
    "import seaborn as sns\n",
    "sns.displot(ridge_pred-y_test, kind = 'kde')"
   ]
  },
  {
   "cell_type": "code",
   "execution_count": 21,
   "id": "b5336f97",
   "metadata": {},
   "outputs": [
    {
     "data": {
      "text/plain": [
       "0.04315711129292277"
      ]
     },
     "execution_count": 21,
     "metadata": {},
     "output_type": "execute_result"
    }
   ],
   "source": [
    "from sklearn.metrics import r2_score\n",
    "score = r2_score(ridge_pred, y_test)\n",
    "score"
   ]
  },
  {
   "cell_type": "code",
   "execution_count": 22,
   "id": "35d9df7d",
   "metadata": {},
   "outputs": [],
   "source": [
    "# Lasso Regression"
   ]
  },
  {
   "cell_type": "code",
   "execution_count": 28,
   "id": "1bad9ed3",
   "metadata": {},
   "outputs": [],
   "source": [
    "from sklearn.linear_model import Lasso\n",
    "lasso_reg = Lasso()\n",
    "lasso_cv = GridSearchCV(lasso_reg, parameters, scoring='neg_mean_squared_error', cv=5)\n",
    "lasso_cv.fit(X_train, y_train)\n",
    "\n",
    "lasso_pred = lasso_cv.predict(X_test)"
   ]
  },
  {
   "cell_type": "code",
   "execution_count": 29,
   "id": "f6d3b8da",
   "metadata": {},
   "outputs": [
    {
     "data": {
      "text/plain": [
       "-0.013919551467584723"
      ]
     },
     "execution_count": 29,
     "metadata": {},
     "output_type": "execute_result"
    }
   ],
   "source": [
    "from sklearn.metrics import r2_score\n",
    "score = r2_score(lasso_pred, y_test)\n",
    "score"
   ]
  }
 ],
 "metadata": {
  "kernelspec": {
   "display_name": "Python 3 (ipykernel)",
   "language": "python",
   "name": "python3"
  },
  "language_info": {
   "codemirror_mode": {
    "name": "ipython",
    "version": 3
   },
   "file_extension": ".py",
   "mimetype": "text/x-python",
   "name": "python",
   "nbconvert_exporter": "python",
   "pygments_lexer": "ipython3",
   "version": "3.11.5"
  }
 },
 "nbformat": 4,
 "nbformat_minor": 5
}
